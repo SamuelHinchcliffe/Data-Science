{
 "cells": [
  {
   "cell_type": "code",
   "execution_count": 10,
   "id": "c0acef79",
   "metadata": {},
   "outputs": [
    {
     "name": "stdout",
     "output_type": "stream",
     "text": [
      "4\n"
     ]
    }
   ],
   "source": [
    "def numIslands(matrix):\n",
    "        \n",
    "        if not matrix: return 0\n",
    "        r, c = len(matrix), len(matrix[0])\n",
    "        visited = [[False for _ in range(c)] for _ in range(r)]\n",
    "\n",
    "        def dfs(i, j):\n",
    "            if i < 0 or i >= r or j < 0 or j >= c or matrix[i][j] == 0 or visited[i][j]:\n",
    "                return\n",
    "            visited[i][j] = True\n",
    "            dfs(i + 1, j)\n",
    "            dfs(i - 1, j)\n",
    "            dfs(i, j + 1)\n",
    "            dfs(i, j - 1)\n",
    "            dfs(i - 1, j - 1)\n",
    "            dfs(i - 1, j + 1)\n",
    "            dfs(i + 1, j - 1)\n",
    "            dfs(i + 1, j + 1)\n",
    "\n",
    "        count = 0\n",
    "        for i in range(r):\n",
    "            for j in range(c):\n",
    "                if not visited[i][j] and matrix[i][j] == 1:\n",
    "                    dfs(i, j)\n",
    "                    count += 1\n",
    "        return count\n",
    "        \n",
    "\n",
    "        arr = []\n",
    "        for i in range(r):\n",
    "            for j in range(c):\n",
    "                if grid[i][j]:\n",
    "                    arr.append(dfs(i, j))\n",
    "                    \n",
    "        return arr\n",
    "x = [[1, 0, 0, 1, 0, 1, 0, 0, 1, 1, 1, 0],\n",
    "     [1, 0, 1, 0, 0, 1, 1, 1, 1, 0, 1, 0],\n",
    "     [0, 0, 1, 0, 1, 1, 0, 1, 0, 1, 1, 1],\n",
    "     [1, 0, 1, 0, 1, 1, 0, 0, 0, 1, 0, 0],\n",
    "     [1, 0, 1, 1, 0, 0, 0, 1, 1, 1, 0, 1]\n",
    "  ]\n",
    "\n",
    "print(numIslands(x))\n"
   ]
  },
  {
   "cell_type": "code",
   "execution_count": 11,
   "id": "9140c56f",
   "metadata": {},
   "outputs": [
    {
     "name": "stdout",
     "output_type": "stream",
     "text": [
      "3\n"
     ]
    }
   ],
   "source": [
    "def numIslands(matrix):\n",
    "        \n",
    "        if not matrix: return 0\n",
    "        r, c = len(matrix), len(matrix[0])\n",
    "        visited = [[False for _ in range(c)] for _ in range(r)]\n",
    "\n",
    "        def dfs(i, j):\n",
    "            if i < 0 or i >= r or j < 0 or j >= c or matrix[i][j] == 0 or visited[i][j]:\n",
    "                return\n",
    "            visited[i][j] = True\n",
    "            dfs(i + 1, j)\n",
    "            dfs(i - 1, j)\n",
    "            dfs(i, j + 1)\n",
    "            dfs(i, j - 1)\n",
    "            dfs(i - 1, j - 1)\n",
    "            dfs(i - 1, j + 1)\n",
    "            dfs(i + 1, j - 1)\n",
    "            dfs(i + 1, j + 1)\n",
    "\n",
    "        count = 0\n",
    "        for i in range(r):\n",
    "            for j in range(c):\n",
    "                if not visited[i][j] and matrix[i][j] == 1:\n",
    "                    dfs(i, j)\n",
    "                    count += 1\n",
    "        return count\n",
    "        \n",
    "\n",
    "        arr = []\n",
    "        for i in range(r):\n",
    "            for j in range(c):\n",
    "                if grid[i][j]:\n",
    "                    arr.append(dfs(i, j))\n",
    "                    \n",
    "        return arr\n",
    "x = [[1, 0, 0, 1, 0, 1, 0, 0, 1, 1, 1, 0],\n",
    "     [1, 0, 1, 0, 0, 1, 1, 1, 1, 0, 1, 0],\n",
    "     [0, 0, 1, 0, 1, 1, 0, 1, 0, 1, 1, 1],\n",
    "     [1, 0, 1, 0, 1, 1, 0, 0, 0, 1, 0, 0],\n",
    "     [1, 0, 1, 1, 0, 0, 0, 1, 1, 1, 0, 0]\n",
    "  ]\n",
    "\n",
    "print(numIslands(x))"
   ]
  },
  {
   "cell_type": "code",
   "execution_count": null,
   "id": "25bf24e6",
   "metadata": {},
   "outputs": [],
   "source": []
  }
 ],
 "metadata": {
  "kernelspec": {
   "display_name": "Python 3 (ipykernel)",
   "language": "python",
   "name": "python3"
  },
  "language_info": {
   "codemirror_mode": {
    "name": "ipython",
    "version": 3
   },
   "file_extension": ".py",
   "mimetype": "text/x-python",
   "name": "python",
   "nbconvert_exporter": "python",
   "pygments_lexer": "ipython3",
   "version": "3.10.5"
  }
 },
 "nbformat": 4,
 "nbformat_minor": 5
}
